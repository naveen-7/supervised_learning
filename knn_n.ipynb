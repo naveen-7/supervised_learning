{
 "cells": [
  {
   "cell_type": "code",
   "execution_count": 178,
   "metadata": {},
   "outputs": [],
   "source": [
    "# perform knn\n",
    "# written by naveen on 9/27/20\n",
    "\n",
    "def knn_n(x_train,y_train,x_test,k):\n",
    "\n",
    "    # find unique labels\n",
    "    UN = np.unique(y_train)\n",
    "    final_lbl = np.zeros((len(x_test),1))\n",
    "    \n",
    "    for i in range(len(x_test)):\n",
    "        norm = np.zeros((len(x_train),1))\n",
    "        for j in range(len(x_train)):\n",
    "            norm[j] = np.linalg.norm(x_train[j,:]-x_test[i,:])\n",
    "\n",
    "        a = np.argsort(norm,0)\n",
    "        chosen_ind = a[0:k] \n",
    "        chosen_lbl = y_train[chosen_ind]\n",
    "\n",
    "        temp = np.zeros((1,len(UN)))[0]\n",
    "\n",
    "        for kk in range(k):\n",
    "            temp[np.argwhere(UN==chosen_lbl[0])[0]]+=1\n",
    "    \n",
    "        if len(np.argwhere(temp == np.max(temp)))==1:\n",
    "            ind = np.argmax(temp)\n",
    "        else:\n",
    "            ind = a[0]\n",
    "\n",
    "        final_lbl[i] = UN[ind]\n",
    "        #print(i)\n",
    "\n",
    "    return final_lbl"
   ]
  },
  {
   "cell_type": "code",
   "execution_count": null,
   "metadata": {},
   "outputs": [],
   "source": [
    "# import data and pre-process\n",
    "import tensorflow as tf\n",
    "import matplotlib.pyplot as plt\n",
    "(x_train, y_train), (x_test, y_test) = tf.keras.datasets.mnist.load_data()\n",
    "x_train = x_train/255\n",
    "x_test = x_test/255"
   ]
  },
  {
   "cell_type": "code",
   "execution_count": 113,
   "metadata": {},
   "outputs": [
    {
     "data": {
      "text/plain": [
       "<matplotlib.image.AxesImage at 0x637571650>"
      ]
     },
     "execution_count": 113,
     "metadata": {},
     "output_type": "execute_result"
    },
    {
     "data": {
      "image/png": "[encoded data removed]",
      "text/plain": [
       "<Figure size 432x288 with 2 Axes>"
      ]
     },
     "metadata": {
      "needs_background": "light"
     },
     "output_type": "display_data"
    }
   ],
   "source": [
    "# visualization\n",
    "num = 50\n",
    "fig, ax = plt.subplots(1,2)\n",
    "ax[0].imshow(np.reshape(x_train[num,:],(28,28)))\n",
    "ax[1].imshow(np.reshape(x_test[num,:],(28,28)))"
   ]
  },
  {
   "cell_type": "code",
   "execution_count": 181,
   "metadata": {},
   "outputs": [],
   "source": [
    "Y_TEST = knn_n(x_train,y_train,x_test[0:1000],3)"
   ]
  },
  {
   "cell_type": "code",
   "execution_count": 198,
   "metadata": {},
   "outputs": [
    {
     "name": "stdout",
     "output_type": "stream",
     "text": [
      "accuracy =  96.2 %\n"
     ]
    }
   ],
   "source": [
    "val = Y_TEST.flatten()-y_test[0:1000].flatten()\n",
    "print(\"accuracy = \",100*len(np.argwhere((val) ==0))/len(Y_TEST),\"%\")"
   ]
  }
 ],
 "metadata": {
  "kernelspec": {
   "display_name": "Python 3",
   "language": "python",
   "name": "python3"
  },
  "language_info": {
   "codemirror_mode": {
    "name": "ipython",
    "version": 3
   },
   "file_extension": ".py",
   "mimetype": "text/x-python",
   "name": "python",
   "nbconvert_exporter": "python",
   "pygments_lexer": "ipython3",
   "version": "3.7.6"
  }
 },
 "nbformat": 4,
 "nbformat_minor": 4
}
